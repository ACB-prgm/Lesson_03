{
 "cells": [
  {
   "attachments": {},
   "cell_type": "markdown",
   "metadata": {},
   "source": [
    "# Lesson 3 | Boolean Values, Comparisons, and Logical Operators"
   ]
  },
  {
   "attachments": {},
   "cell_type": "markdown",
   "metadata": {},
   "source": [
    "## Booleans\n",
    "\n",
    "Booleans are simple binary values that can be either `True` or `False`. Note that *the first letter is capitalized*.\n",
    "\n",
    "They can also be represented as integers:  \n",
    "`int(True) == 1` \n",
    "`int(False) == 0`\n",
    "\n",
    "They exist primarily for use in comparison and logical operations which in turn exist primarily for if statements and while loops."
   ]
  },
  {
   "attachments": {},
   "cell_type": "markdown",
   "metadata": {},
   "source": [
    "## Comparison Operators\n",
    "\n",
    "These operations compare two variables and return a boolean `True`/`False` value.\n",
    "\n",
    "Examples:\n",
    "\n",
    "**Equal to: ==**\n",
    "\n",
    "- Checks if two values are equal.\n",
    "- Example: 5 == 5 returns True."
   ]
  },
  {
   "cell_type": "code",
   "execution_count": null,
   "metadata": {},
   "outputs": [],
   "source": [
    "x = 4\n",
    "\n",
    "print(x == 4)\n",
    "print(x == 5)"
   ]
  },
  {
   "attachments": {},
   "cell_type": "markdown",
   "metadata": {},
   "source": [
    "These show integers, although `==` can be used with ANY data type!"
   ]
  },
  {
   "cell_type": "code",
   "execution_count": null,
   "metadata": {},
   "outputs": [],
   "source": [
    "# Booleans\n",
    "\n",
    "raining = True\n",
    "print(raining == True)"
   ]
  },
  {
   "cell_type": "code",
   "execution_count": null,
   "metadata": {},
   "outputs": [],
   "source": [
    "# Strings\n",
    "\n",
    "x = \"Hello\"\n",
    "print(x == \"Hello\")\n",
    "print(x == \"hello\")"
   ]
  },
  {
   "cell_type": "code",
   "execution_count": null,
   "metadata": {},
   "outputs": [],
   "source": [
    "# Floats\n",
    "\n",
    "print(0.3 == 0.3)\n",
    "\n",
    "# Take caution when using with floats that are the product of math operations! \n",
    "# Floating-point arithmetic can introduce tiny rounding errors, which can lead to unexpected results when comparing floats directly.\n",
    "x = 0.1 + 0.1 + 0.1\n",
    "y = 0.3\n",
    "\n",
    "print(x)\n",
    "answer = y)\n",
    "print(x == y)  # Might not always be True due to floating-point precision"
   ]
  },
  {
   "attachments": {},
   "cell_type": "markdown",
   "metadata": {},
   "source": [
    "**Not equal to: !=**\n",
    "\n",
    "- Checks if two values are not equal.\n",
    "- Example: 5 != 3 returns True.\n",
    "- Can also be used with any data type (same caveats for floats)"
   ]
  },
  {
   "cell_type": "code",
   "execution_count": null,
   "metadata": {},
   "outputs": [],
   "source": [
    "x = 5\n",
    "\n",
    "print(x != 5)\n",
    "print(x != 7)\n",
    "print(x != \"hello\")"
   ]
  },
  {
   "attachments": {},
   "cell_type": "markdown",
   "metadata": {},
   "source": [
    "The followiing can only be used for numeric data types and work as you would expect.\n",
    "\n",
    "**Greater than: >**\n",
    "\n",
    "- Checks if one value is greater than another.\n",
    "- Example: 10 > 5 returns True.\n",
    "\n",
    "**Less than: <**\n",
    "- Checks if one value is less than another.\n",
    "- Example: 3 < 7 returns True.\n",
    "\n",
    "**Greater than or equal to: >=**\n",
    "\n",
    "- Checks if one value is greater than or equal to another.\n",
    "- Example: 5 >= 5 returns True.\n",
    "\n",
    "**Less than or equal to: <=**\n",
    "\n",
    "- Checks if one value is less than or equal to another.\n",
    "- Example: 2 <= 4 returns True.\n",
    "\n",
    "## Practice\n",
    "Change the expressions to pass the following assertions. (they must evaluate to true)."
   ]
  },
  {
   "cell_type": "code",
   "execution_count": null,
   "metadata": {},
   "outputs": [],
   "source": [
    "assert 3 == 4\n",
    "\n",
    "assert \"Hello!\" != \"Hello!\"\n",
    "\n",
    "assert 5 > 7\n",
    "\n",
    "# Only change the numbers on this one!\n",
    "assert 3.5 > 5 < 2"
   ]
  },
  {
   "attachments": {},
   "cell_type": "markdown",
   "metadata": {},
   "source": [
    "## Logical Operators\n",
    "\n",
    "Logical operators in Python are used to perform logical operations on boolean values or expressions. There are three logical operators: `and`, `or`, and `not`.  \n",
    "Here's a brief description of each logical operator along with an example:"
   ]
  },
  {
   "attachments": {},
   "cell_type": "markdown",
   "metadata": {},
   "source": [
    "`and` Operator:\n",
    "\n",
    "The and operator returns `True` if **BOTH** operands are `True`, otherwise it returns `False`."
   ]
  },
  {
   "cell_type": "code",
   "execution_count": null,
   "metadata": {},
   "outputs": [],
   "source": [
    "x = 1\n",
    "\n",
    "print(x < 3 and x > 0) # True\n",
    "\n",
    "print(x < 3 and x > 1) # False"
   ]
  },
  {
   "attachments": {},
   "cell_type": "markdown",
   "metadata": {},
   "source": [
    "`or` Operator:\n",
    "\n",
    "The `or` operator returns `True` if **EITHER** of the operands is `True`. It returns `False` if BOTH are `False`."
   ]
  },
  {
   "cell_type": "code",
   "execution_count": null,
   "metadata": {},
   "outputs": [],
   "source": [
    "x = 1\n",
    "\n",
    "print(x < 3 or x > 0) # True\n",
    "\n",
    "print(x < 3 or x > 1) # True\n",
    "\n",
    "print(x == \"hello\" or  x > 1) # False"
   ]
  },
  {
   "attachments": {},
   "cell_type": "markdown",
   "metadata": {},
   "source": [
    "`not` Operator:\n",
    "\n",
    "The not operator returns the **OPPOSITE** boolean value of its operand. If the operand is True, it returns False, and if the operand is False, it returns True."
   ]
  },
  {
   "cell_type": "code",
   "execution_count": null,
   "metadata": {},
   "outputs": [],
   "source": [
    "x = 5\n",
    "\n",
    "print(not x == 5) # This is the same as x != 5\n",
    "\n",
    "\n",
    "print(not x < 3) # This is a double negative!"
   ]
  },
  {
   "attachments": {},
   "cell_type": "markdown",
   "metadata": {},
   "source": [
    "## Practice\n",
    "\n",
    "Change the statements so that all the assertions pass!"
   ]
  },
  {
   "cell_type": "code",
   "execution_count": null,
   "metadata": {},
   "outputs": [],
   "source": [
    "x = 5\n",
    "\n",
    "assert x == 5 and x > 10\n",
    "\n",
    "assert x < 10 or x < 20\n",
    "\n",
    "assert x > 4 or x == 5\n",
    "\n",
    "assert x !=5 or x == 6"
   ]
  },
  {
   "attachments": {},
   "cell_type": "markdown",
   "metadata": {},
   "source": [
    "## Combining Operators - Order of Operations\n",
    "\n",
    "They will be evaluated left to right if they have the same order of operations.\n",
    "\n",
    "1. `Parentheses`: Expressions within parentheses are evaluated first, overriding the default operator precedence.\n",
    "\n",
    "2. `not`: The not operator has the highest precedence among the logical operators. It is evaluated first before and and or.\n",
    "\n",
    "3. `and`: The and operator is evaluated next after the not operator.\n",
    "\n",
    "4. `or`: The or operator has the lowest precedence among the logical operators. It is evaluated last.\n",
    "\n",
    "Soooo `PNAO`? Doesn't have the same ring to it as PEMDAS, but this is the order of things.\n",
    "\n",
    "Try it out on these assertion puzzles:"
   ]
  },
  {
   "cell_type": "code",
   "execution_count": null,
   "metadata": {},
   "outputs": [],
   "source": [
    "assert x > 5 or x == 6 and x > 0\n",
    "\n",
    "assert (x > 5 or x == 6) and x > 100\n",
    "\n",
    "assert not x != 6 and x == 5\n",
    "\n",
    "assert not x != 6 and x == 5 or x !=5"
   ]
  },
  {
   "attachments": {},
   "cell_type": "markdown",
   "metadata": {},
   "source": [
    "**Lesson: Introduction to if Statements**\n",
    "\n",
    "In Python, the `if` statement is used for conditional execution, allowing you to execute specific code blocks based on certain conditions. It helps control the flow of your program by selectively executing or skipping blocks of code.\n",
    "\n",
    "**Syntax:**\n",
    "```python\n",
    "if condition:\n",
    "    # Code block to execute if the condition is True\n",
    "```\n",
    "\n",
    "- The `if` statement starts with the keyword `if`, followed by a condition that evaluates to either `True` or `False`.\n",
    "- If the condition is `True`, the code block indented below the `if` statement is executed.\n",
    "- If the condition is `False`, the code block is skipped, and the program moves on to the next section.\n",
    "\n",
    "**Using `else` and `elif`:**\n",
    "You can expand your conditional logic by including an `else` statement or multiple `elif` (else if) statements.  \n",
    "\n",
    "```python\n",
    "x = 0\n",
    "if x > 0:\n",
    "    print(\"x is positive\")\n",
    "elif x == 0:\n",
    "    print(\"x is zero\")\n",
    "else:\n",
    "    print(\"x is negative\")\n",
    "```\n",
    "- In this example, the condition `x > 0` is checked first.\n",
    "- If it is `True`, the code block `print(\"x is positive\")` is executed.\n",
    "- If the condition is `False`, the program moves to the `elif` statement, which checks if `x` is equal to `0`.\n",
    "- If the `elif` condition is `True`, the code block `print(\"x is zero\")` is executed.\n",
    "- If both the `if` and `elif` conditions are `False`, the program moves to the `else` statement and executes the code block `print(\"x is negative\")`.\n",
    "\n",
    "**Note:** Ensure proper indentation when working with if statements. The indented code block is what determines the scope of the if statement.\n",
    "\n",
    "The elif is only checked if the preceding if/elif statement fails, even if it is true. for example:\n",
    "```python\n",
    "x = 10\n",
    "\n",
    "if x > 0:\n",
    "    print(\"x is positive\")\n",
    "elif x > 5:\n",
    "    print(\"x is greater than 5\")\n",
    "```\n",
    "\n",
    "- in this example, only `\"x is positive\"` will print even though `x > 5` is `True`.\n",
    "- if you wanted both to execute, replace the elif with an if.\n",
    "\n",
    "\n",
    "**Summary:**\n",
    "- `if` statements allow you to conditionally execute code blocks based on specific conditions.\n",
    "- The condition should evaluate to either `True` or `False`.\n",
    "- You can use logical operators (`and`, `or`, `not`) to combine or negate conditions.\n",
    "- The `else` statement is used for executing code when all previous conditions are `False`.\n",
    "- The `elif` statement is used for additional conditions between `if` and `else`."
   ]
  },
  {
   "attachments": {},
   "cell_type": "markdown",
   "metadata": {},
   "source": [
    "## Practice"
   ]
  },
  {
   "attachments": {},
   "cell_type": "markdown",
   "metadata": {},
   "source": [
    "#### Problem: Number Comparison\n",
    "\n",
    "The following code attempts to compare two numbers and print a message based on the comparison. However, there are some mistakes. Identify and fix the issues."
   ]
  },
  {
   "cell_type": "code",
   "execution_count": null,
   "metadata": {},
   "outputs": [],
   "source": [
    "num1 = 10\n",
    "num2 = 7\n",
    "\n",
    "\n",
    "answer = None\n",
    "\n",
    "if num1 < num2:\n",
    "    answer = \"Num1 is greater.\"\n",
    "elif num2 > num1:\n",
    "    answer = \"Num2 is greater.\"\n",
    "else:\n",
    "    answer = \"Both numbers are equal.\"\n",
    "\n",
    "\n",
    "print(\"you answered:\", answer)\n",
    "assert answer == \"Num2 is greater.\"\n",
    "print(\"Correct!\")"
   ]
  },
  {
   "attachments": {},
   "cell_type": "markdown",
   "metadata": {},
   "source": [
    "### Problem: Grade Classification\n",
    "\n",
    "The code below tries to classify a numerical grade into a letter grade. However, there are errors in the logic. Find and correct the mistakes."
   ]
  },
  {
   "cell_type": "code",
   "execution_count": null,
   "metadata": {},
   "outputs": [],
   "source": [
    "grade = 85\n",
    "\n",
    "if grade >= 90:\n",
    "    answer = \"A\"\n",
    "if grade >= 80:\n",
    "    answer = \"B\"\n",
    "if grade >= 70:\n",
    "    answer = \"C\"\n",
    "if grade >= 60:\n",
    "    answer = \"D\"\n",
    "else:\n",
    "    answer = \"F\"\n",
    "\n",
    "\n",
    "\n",
    "print(\"you answered:\", answer)\n",
    "assert answer == \"B\"\n",
    "print(\"Correct!\")"
   ]
  },
  {
   "attachments": {},
   "cell_type": "markdown",
   "metadata": {},
   "source": [
    "### Problem: Time of Day\n",
    "\n",
    "The following code attempts to determine the time of day based on the provided hour. However, there are some issues with the if-elif structure. Fix the code to correctly classify the time of day."
   ]
  },
  {
   "cell_type": "code",
   "execution_count": null,
   "metadata": {},
   "outputs": [],
   "source": [
    "hour = 15\n",
    "\n",
    "if hour < 12:\n",
    "    answer = \"Morning\"\n",
    "if hour >= 12 and hour < 18:\n",
    "    answer = \"Afternoon\"\n",
    "if hour >= 18:\n",
    "    answer = \"Evening\"\n",
    "else:\n",
    "    answer = \"Night\"\n",
    "\n",
    "print(\"you answered:\", answer)\n",
    "assert answer == \"Afternoon\"\n",
    "print(\"Correct!\")"
   ]
  }
 ],
 "metadata": {
  "kernelspec": {
   "display_name": "Python 3",
   "language": "python",
   "name": "python3"
  },
  "language_info": {
   "codemirror_mode": {
    "name": "ipython",
    "version": 3
   },
   "file_extension": ".py",
   "mimetype": "text/x-python",
   "name": "python",
   "nbconvert_exporter": "python",
   "pygments_lexer": "ipython3",
   "version": "3.10.11"
  },
  "orig_nbformat": 4
 },
 "nbformat": 4,
 "nbformat_minor": 2
}
